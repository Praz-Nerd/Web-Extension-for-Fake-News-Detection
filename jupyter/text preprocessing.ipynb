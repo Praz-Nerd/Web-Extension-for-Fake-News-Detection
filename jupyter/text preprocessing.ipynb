{
 "cells": [
  {
   "cell_type": "code",
   "execution_count": 1,
   "id": "e0b66210-168c-484a-8ed9-ede4f6096b84",
   "metadata": {},
   "outputs": [],
   "source": [
    "#dataset is at ../liar_dataset/liar.csv\n",
    "DATASET_PATH = '../liar_dataset/liar.csv'\n",
    "import numpy as np\n",
    "import pandas as pd\n",
    "import nltk\n",
    "from string import punctuation #for recognizing and removing\n",
    "from nltk.corpus import stopwords #for recognizing and removing"
   ]
  },
  {
   "cell_type": "code",
   "execution_count": 6,
   "id": "b089e139-c329-4a60-bed7-1fda8a7bdc69",
   "metadata": {},
   "outputs": [
    {
     "name": "stderr",
     "output_type": "stream",
     "text": [
      "[nltk_data] Downloading package punkt_tab to C:\\Users\\Ștefan\n",
      "[nltk_data]     Vlădescu\\AppData\\Roaming\\nltk_data...\n",
      "[nltk_data]   Unzipping tokenizers\\punkt_tab.zip.\n"
     ]
    },
    {
     "data": {
      "text/plain": [
       "True"
      ]
     },
     "execution_count": 6,
     "metadata": {},
     "output_type": "execute_result"
    }
   ],
   "source": [
    "nltk.download('punkt_tab')"
   ]
  },
  {
   "cell_type": "code",
   "execution_count": 42,
   "id": "8c937268-5206-41d3-be20-3c4b1f27809c",
   "metadata": {},
   "outputs": [
    {
     "name": "stderr",
     "output_type": "stream",
     "text": [
      "[nltk_data] Downloading package stopwords to C:\\Users\\Ștefan\n",
      "[nltk_data]     Vlădescu\\AppData\\Roaming\\nltk_data...\n",
      "[nltk_data]   Unzipping corpora\\stopwords.zip.\n"
     ]
    },
    {
     "data": {
      "text/plain": [
       "True"
      ]
     },
     "execution_count": 42,
     "metadata": {},
     "output_type": "execute_result"
    }
   ],
   "source": [
    "nltk.download('stopwords')"
   ]
  },
  {
   "cell_type": "code",
   "execution_count": 4,
   "id": "ef59f0b2-3f3d-43d7-9878-fae3b333ae0d",
   "metadata": {},
   "outputs": [
    {
     "data": {
      "text/html": [
       "<div>\n",
       "<style scoped>\n",
       "    .dataframe tbody tr th:only-of-type {\n",
       "        vertical-align: middle;\n",
       "    }\n",
       "\n",
       "    .dataframe tbody tr th {\n",
       "        vertical-align: top;\n",
       "    }\n",
       "\n",
       "    .dataframe thead th {\n",
       "        text-align: right;\n",
       "    }\n",
       "</style>\n",
       "<table border=\"1\" class=\"dataframe\">\n",
       "  <thead>\n",
       "    <tr style=\"text-align: right;\">\n",
       "      <th></th>\n",
       "      <th>id</th>\n",
       "      <th>label</th>\n",
       "      <th>statement</th>\n",
       "    </tr>\n",
       "  </thead>\n",
       "  <tbody>\n",
       "    <tr>\n",
       "      <th>0</th>\n",
       "      <td>0</td>\n",
       "      <td>0</td>\n",
       "      <td>Building a wall on the U.S.-Mexico border will...</td>\n",
       "    </tr>\n",
       "    <tr>\n",
       "      <th>1</th>\n",
       "      <td>1</td>\n",
       "      <td>1</td>\n",
       "      <td>Wisconsin is on pace to double the number of l...</td>\n",
       "    </tr>\n",
       "    <tr>\n",
       "      <th>2</th>\n",
       "      <td>2</td>\n",
       "      <td>1</td>\n",
       "      <td>Says John McCain has done nothing to help the ...</td>\n",
       "    </tr>\n",
       "    <tr>\n",
       "      <th>3</th>\n",
       "      <td>3</td>\n",
       "      <td>0</td>\n",
       "      <td>Suzanne Bonamici supports a plan that will cut...</td>\n",
       "    </tr>\n",
       "    <tr>\n",
       "      <th>4</th>\n",
       "      <td>4</td>\n",
       "      <td>1</td>\n",
       "      <td>When asked by a reporter whether hes at the ce...</td>\n",
       "    </tr>\n",
       "    <tr>\n",
       "      <th>...</th>\n",
       "      <td>...</td>\n",
       "      <td>...</td>\n",
       "      <td>...</td>\n",
       "    </tr>\n",
       "    <tr>\n",
       "      <th>12760</th>\n",
       "      <td>1279</td>\n",
       "      <td>0</td>\n",
       "      <td>For the first time in more than a decade, impo...</td>\n",
       "    </tr>\n",
       "    <tr>\n",
       "      <th>12761</th>\n",
       "      <td>1280</td>\n",
       "      <td>0</td>\n",
       "      <td>Says Donald Trump has bankrupted his companies...</td>\n",
       "    </tr>\n",
       "    <tr>\n",
       "      <th>12762</th>\n",
       "      <td>1281</td>\n",
       "      <td>0</td>\n",
       "      <td>John McCain and George Bush have \"absolutely n...</td>\n",
       "    </tr>\n",
       "    <tr>\n",
       "      <th>12763</th>\n",
       "      <td>1282</td>\n",
       "      <td>1</td>\n",
       "      <td>A new poll shows 62 percent support the presid...</td>\n",
       "    </tr>\n",
       "    <tr>\n",
       "      <th>12764</th>\n",
       "      <td>1283</td>\n",
       "      <td>1</td>\n",
       "      <td>No one claims the report vindicating New Jerse...</td>\n",
       "    </tr>\n",
       "  </tbody>\n",
       "</table>\n",
       "<p>12765 rows × 3 columns</p>\n",
       "</div>"
      ],
      "text/plain": [
       "         id  label                                          statement\n",
       "0         0      0  Building a wall on the U.S.-Mexico border will...\n",
       "1         1      1  Wisconsin is on pace to double the number of l...\n",
       "2         2      1  Says John McCain has done nothing to help the ...\n",
       "3         3      0  Suzanne Bonamici supports a plan that will cut...\n",
       "4         4      1  When asked by a reporter whether hes at the ce...\n",
       "...     ...    ...                                                ...\n",
       "12760  1279      0  For the first time in more than a decade, impo...\n",
       "12761  1280      0  Says Donald Trump has bankrupted his companies...\n",
       "12762  1281      0  John McCain and George Bush have \"absolutely n...\n",
       "12763  1282      1  A new poll shows 62 percent support the presid...\n",
       "12764  1283      1  No one claims the report vindicating New Jerse...\n",
       "\n",
       "[12765 rows x 3 columns]"
      ]
     },
     "execution_count": 4,
     "metadata": {},
     "output_type": "execute_result"
    }
   ],
   "source": [
    "dataset = pd.read_csv(DATASET_PATH)\n",
    "dataset"
   ]
  },
  {
   "cell_type": "markdown",
   "id": "2d5003bc-a45d-4d96-8e2a-ae1e380a1ddb",
   "metadata": {},
   "source": [
    "Make everything lowercase"
   ]
  },
  {
   "cell_type": "code",
   "execution_count": 20,
   "id": "31f8e2b1-3507-4894-9045-be76118870de",
   "metadata": {},
   "outputs": [
    {
     "data": {
      "text/html": [
       "<div>\n",
       "<style scoped>\n",
       "    .dataframe tbody tr th:only-of-type {\n",
       "        vertical-align: middle;\n",
       "    }\n",
       "\n",
       "    .dataframe tbody tr th {\n",
       "        vertical-align: top;\n",
       "    }\n",
       "\n",
       "    .dataframe thead th {\n",
       "        text-align: right;\n",
       "    }\n",
       "</style>\n",
       "<table border=\"1\" class=\"dataframe\">\n",
       "  <thead>\n",
       "    <tr style=\"text-align: right;\">\n",
       "      <th></th>\n",
       "      <th>id</th>\n",
       "      <th>label</th>\n",
       "      <th>statement</th>\n",
       "    </tr>\n",
       "  </thead>\n",
       "  <tbody>\n",
       "    <tr>\n",
       "      <th>0</th>\n",
       "      <td>0</td>\n",
       "      <td>0</td>\n",
       "      <td>building a wall on the u.s.-mexico border will...</td>\n",
       "    </tr>\n",
       "    <tr>\n",
       "      <th>1</th>\n",
       "      <td>1</td>\n",
       "      <td>1</td>\n",
       "      <td>wisconsin is on pace to double the number of l...</td>\n",
       "    </tr>\n",
       "    <tr>\n",
       "      <th>2</th>\n",
       "      <td>2</td>\n",
       "      <td>1</td>\n",
       "      <td>says john mccain has done nothing to help the ...</td>\n",
       "    </tr>\n",
       "    <tr>\n",
       "      <th>3</th>\n",
       "      <td>3</td>\n",
       "      <td>0</td>\n",
       "      <td>suzanne bonamici supports a plan that will cut...</td>\n",
       "    </tr>\n",
       "    <tr>\n",
       "      <th>4</th>\n",
       "      <td>4</td>\n",
       "      <td>1</td>\n",
       "      <td>when asked by a reporter whether hes at the ce...</td>\n",
       "    </tr>\n",
       "    <tr>\n",
       "      <th>...</th>\n",
       "      <td>...</td>\n",
       "      <td>...</td>\n",
       "      <td>...</td>\n",
       "    </tr>\n",
       "    <tr>\n",
       "      <th>12760</th>\n",
       "      <td>1279</td>\n",
       "      <td>0</td>\n",
       "      <td>for the first time in more than a decade, impo...</td>\n",
       "    </tr>\n",
       "    <tr>\n",
       "      <th>12761</th>\n",
       "      <td>1280</td>\n",
       "      <td>0</td>\n",
       "      <td>says donald trump has bankrupted his companies...</td>\n",
       "    </tr>\n",
       "    <tr>\n",
       "      <th>12762</th>\n",
       "      <td>1281</td>\n",
       "      <td>0</td>\n",
       "      <td>john mccain and george bush have \"absolutely n...</td>\n",
       "    </tr>\n",
       "    <tr>\n",
       "      <th>12763</th>\n",
       "      <td>1282</td>\n",
       "      <td>1</td>\n",
       "      <td>a new poll shows 62 percent support the presid...</td>\n",
       "    </tr>\n",
       "    <tr>\n",
       "      <th>12764</th>\n",
       "      <td>1283</td>\n",
       "      <td>1</td>\n",
       "      <td>no one claims the report vindicating new jerse...</td>\n",
       "    </tr>\n",
       "  </tbody>\n",
       "</table>\n",
       "<p>12765 rows × 3 columns</p>\n",
       "</div>"
      ],
      "text/plain": [
       "         id  label                                          statement\n",
       "0         0      0  building a wall on the u.s.-mexico border will...\n",
       "1         1      1  wisconsin is on pace to double the number of l...\n",
       "2         2      1  says john mccain has done nothing to help the ...\n",
       "3         3      0  suzanne bonamici supports a plan that will cut...\n",
       "4         4      1  when asked by a reporter whether hes at the ce...\n",
       "...     ...    ...                                                ...\n",
       "12760  1279      0  for the first time in more than a decade, impo...\n",
       "12761  1280      0  says donald trump has bankrupted his companies...\n",
       "12762  1281      0  john mccain and george bush have \"absolutely n...\n",
       "12763  1282      1  a new poll shows 62 percent support the presid...\n",
       "12764  1283      1  no one claims the report vindicating new jerse...\n",
       "\n",
       "[12765 rows x 3 columns]"
      ]
     },
     "execution_count": 20,
     "metadata": {},
     "output_type": "execute_result"
    }
   ],
   "source": [
    "dataset['statement'].str.lower()\n",
    "dataset"
   ]
  },
  {
   "cell_type": "markdown",
   "id": "1c0bcf97-323f-40da-88cd-564b43e214f6",
   "metadata": {},
   "source": [
    "Remove punctuation and multiple spaces"
   ]
  },
  {
   "cell_type": "code",
   "execution_count": null,
   "id": "9196bbce-ab0e-4bdb-8f83-8fcdec2eb1fa",
   "metadata": {},
   "outputs": [],
   "source": [
    "statements = list(dataset['statement'])\n",
    "for i in range(len(statements)):\n",
    "    for p in punctuation:\n",
    "        statements[i] = statements[i].replace(p, ' ')\n",
    "        statements[i] = ' '.join(statements[i].split())\n",
    "#statements"
   ]
  },
  {
   "cell_type": "markdown",
   "id": "7a06b70b-dda9-4c58-9d0e-21c2f0b84dae",
   "metadata": {},
   "source": [
    "Remove stopwords, add 'says' to the collection, it appears too often in the dataset and may influence the results"
   ]
  },
  {
   "cell_type": "code",
   "execution_count": null,
   "id": "2d05037d-6076-4253-a011-9b57e4938ca2",
   "metadata": {},
   "outputs": [],
   "source": [
    "stopword_set = set(stopwords.words('english'))\n",
    "stopword_set.add('says')\n",
    "for i in range(len(statements)):\n",
    "    statements[i] = ' '.join([word for word in statements[i].split() if word not in stopword_set])\n",
    "statements"
   ]
  },
  {
   "cell_type": "markdown",
   "id": "28be825c-be91-49b4-bb60-b8536eb9c161",
   "metadata": {},
   "source": [
    "Add to dataframe and save to file"
   ]
  },
  {
   "cell_type": "code",
   "execution_count": 47,
   "id": "4abce4fc-0323-408c-8b8c-d52a53d2aee6",
   "metadata": {},
   "outputs": [
    {
     "data": {
      "text/html": [
       "<div>\n",
       "<style scoped>\n",
       "    .dataframe tbody tr th:only-of-type {\n",
       "        vertical-align: middle;\n",
       "    }\n",
       "\n",
       "    .dataframe tbody tr th {\n",
       "        vertical-align: top;\n",
       "    }\n",
       "\n",
       "    .dataframe thead th {\n",
       "        text-align: right;\n",
       "    }\n",
       "</style>\n",
       "<table border=\"1\" class=\"dataframe\">\n",
       "  <thead>\n",
       "    <tr style=\"text-align: right;\">\n",
       "      <th></th>\n",
       "      <th>id</th>\n",
       "      <th>label</th>\n",
       "      <th>statement</th>\n",
       "      <th>prepped statement</th>\n",
       "    </tr>\n",
       "  </thead>\n",
       "  <tbody>\n",
       "    <tr>\n",
       "      <th>0</th>\n",
       "      <td>0</td>\n",
       "      <td>0</td>\n",
       "      <td>building a wall on the u.s.-mexico border will...</td>\n",
       "      <td>building wall u mexico border take literally y...</td>\n",
       "    </tr>\n",
       "    <tr>\n",
       "      <th>1</th>\n",
       "      <td>1</td>\n",
       "      <td>1</td>\n",
       "      <td>wisconsin is on pace to double the number of l...</td>\n",
       "      <td>wisconsin pace double number layoffs year</td>\n",
       "    </tr>\n",
       "    <tr>\n",
       "      <th>2</th>\n",
       "      <td>2</td>\n",
       "      <td>1</td>\n",
       "      <td>says john mccain has done nothing to help the ...</td>\n",
       "      <td>john mccain done nothing help vets</td>\n",
       "    </tr>\n",
       "    <tr>\n",
       "      <th>3</th>\n",
       "      <td>3</td>\n",
       "      <td>0</td>\n",
       "      <td>suzanne bonamici supports a plan that will cut...</td>\n",
       "      <td>suzanne bonamici supports plan cut choice medi...</td>\n",
       "    </tr>\n",
       "    <tr>\n",
       "      <th>4</th>\n",
       "      <td>4</td>\n",
       "      <td>1</td>\n",
       "      <td>when asked by a reporter whether hes at the ce...</td>\n",
       "      <td>asked reporter whether hes center criminal sch...</td>\n",
       "    </tr>\n",
       "    <tr>\n",
       "      <th>...</th>\n",
       "      <td>...</td>\n",
       "      <td>...</td>\n",
       "      <td>...</td>\n",
       "      <td>...</td>\n",
       "    </tr>\n",
       "    <tr>\n",
       "      <th>12760</th>\n",
       "      <td>1279</td>\n",
       "      <td>0</td>\n",
       "      <td>for the first time in more than a decade, impo...</td>\n",
       "      <td>first time decade imports accounted less half ...</td>\n",
       "    </tr>\n",
       "    <tr>\n",
       "      <th>12761</th>\n",
       "      <td>1280</td>\n",
       "      <td>0</td>\n",
       "      <td>says donald trump has bankrupted his companies...</td>\n",
       "      <td>donald trump bankrupted companies twice four t...</td>\n",
       "    </tr>\n",
       "    <tr>\n",
       "      <th>12762</th>\n",
       "      <td>1281</td>\n",
       "      <td>0</td>\n",
       "      <td>john mccain and george bush have \"absolutely n...</td>\n",
       "      <td>john mccain george bush absolutely plan univer...</td>\n",
       "    </tr>\n",
       "    <tr>\n",
       "      <th>12763</th>\n",
       "      <td>1282</td>\n",
       "      <td>1</td>\n",
       "      <td>a new poll shows 62 percent support the presid...</td>\n",
       "      <td>new poll shows 62 percent support president pl...</td>\n",
       "    </tr>\n",
       "    <tr>\n",
       "      <th>12764</th>\n",
       "      <td>1283</td>\n",
       "      <td>1</td>\n",
       "      <td>no one claims the report vindicating new jerse...</td>\n",
       "      <td>one claims report vindicating new jersey gov c...</td>\n",
       "    </tr>\n",
       "  </tbody>\n",
       "</table>\n",
       "<p>12765 rows × 4 columns</p>\n",
       "</div>"
      ],
      "text/plain": [
       "         id  label                                          statement  \\\n",
       "0         0      0  building a wall on the u.s.-mexico border will...   \n",
       "1         1      1  wisconsin is on pace to double the number of l...   \n",
       "2         2      1  says john mccain has done nothing to help the ...   \n",
       "3         3      0  suzanne bonamici supports a plan that will cut...   \n",
       "4         4      1  when asked by a reporter whether hes at the ce...   \n",
       "...     ...    ...                                                ...   \n",
       "12760  1279      0  for the first time in more than a decade, impo...   \n",
       "12761  1280      0  says donald trump has bankrupted his companies...   \n",
       "12762  1281      0  john mccain and george bush have \"absolutely n...   \n",
       "12763  1282      1  a new poll shows 62 percent support the presid...   \n",
       "12764  1283      1  no one claims the report vindicating new jerse...   \n",
       "\n",
       "                                       prepped statement  \n",
       "0      building wall u mexico border take literally y...  \n",
       "1              wisconsin pace double number layoffs year  \n",
       "2                     john mccain done nothing help vets  \n",
       "3      suzanne bonamici supports plan cut choice medi...  \n",
       "4      asked reporter whether hes center criminal sch...  \n",
       "...                                                  ...  \n",
       "12760  first time decade imports accounted less half ...  \n",
       "12761  donald trump bankrupted companies twice four t...  \n",
       "12762  john mccain george bush absolutely plan univer...  \n",
       "12763  new poll shows 62 percent support president pl...  \n",
       "12764  one claims report vindicating new jersey gov c...  \n",
       "\n",
       "[12765 rows x 4 columns]"
      ]
     },
     "execution_count": 47,
     "metadata": {},
     "output_type": "execute_result"
    }
   ],
   "source": [
    "dataset['prepped statement'] = statements\n",
    "dataset"
   ]
  },
  {
   "cell_type": "markdown",
   "id": "d4bc0478-34c0-42f5-afd3-fb3399662e35",
   "metadata": {},
   "source": [
    "This also fixes the id column"
   ]
  },
  {
   "cell_type": "code",
   "execution_count": 51,
   "id": "9253b43e-ee5e-4916-9d14-86eb73fd5c03",
   "metadata": {},
   "outputs": [],
   "source": [
    "dataset.to_csv('../liar_dataset/liar prepped.csv', columns=['label', 'prepped statement'], index_label='id')"
   ]
  },
  {
   "cell_type": "code",
   "execution_count": 4,
   "id": "8489259f-a150-4c5f-bc27-46289c0acd4c",
   "metadata": {},
   "outputs": [
    {
     "data": {
      "text/html": [
       "<div>\n",
       "<style scoped>\n",
       "    .dataframe tbody tr th:only-of-type {\n",
       "        vertical-align: middle;\n",
       "    }\n",
       "\n",
       "    .dataframe tbody tr th {\n",
       "        vertical-align: top;\n",
       "    }\n",
       "\n",
       "    .dataframe thead th {\n",
       "        text-align: right;\n",
       "    }\n",
       "</style>\n",
       "<table border=\"1\" class=\"dataframe\">\n",
       "  <thead>\n",
       "    <tr style=\"text-align: right;\">\n",
       "      <th></th>\n",
       "      <th>label</th>\n",
       "      <th>prepped statement</th>\n",
       "    </tr>\n",
       "    <tr>\n",
       "      <th>id</th>\n",
       "      <th></th>\n",
       "      <th></th>\n",
       "    </tr>\n",
       "  </thead>\n",
       "  <tbody>\n",
       "    <tr>\n",
       "      <th>0</th>\n",
       "      <td>0</td>\n",
       "      <td>building wall u mexico border take literally y...</td>\n",
       "    </tr>\n",
       "    <tr>\n",
       "      <th>1</th>\n",
       "      <td>1</td>\n",
       "      <td>wisconsin pace double number layoffs year</td>\n",
       "    </tr>\n",
       "    <tr>\n",
       "      <th>2</th>\n",
       "      <td>1</td>\n",
       "      <td>john mccain done nothing help vets</td>\n",
       "    </tr>\n",
       "    <tr>\n",
       "      <th>3</th>\n",
       "      <td>0</td>\n",
       "      <td>suzanne bonamici supports plan cut choice medi...</td>\n",
       "    </tr>\n",
       "    <tr>\n",
       "      <th>4</th>\n",
       "      <td>1</td>\n",
       "      <td>asked reporter whether hes center criminal sch...</td>\n",
       "    </tr>\n",
       "    <tr>\n",
       "      <th>...</th>\n",
       "      <td>...</td>\n",
       "      <td>...</td>\n",
       "    </tr>\n",
       "    <tr>\n",
       "      <th>12804</th>\n",
       "      <td>0</td>\n",
       "      <td>first time decade imports accounted less half ...</td>\n",
       "    </tr>\n",
       "    <tr>\n",
       "      <th>12805</th>\n",
       "      <td>0</td>\n",
       "      <td>donald trump bankrupted companies twice four t...</td>\n",
       "    </tr>\n",
       "    <tr>\n",
       "      <th>12806</th>\n",
       "      <td>0</td>\n",
       "      <td>john mccain george bush absolutely plan univer...</td>\n",
       "    </tr>\n",
       "    <tr>\n",
       "      <th>12807</th>\n",
       "      <td>1</td>\n",
       "      <td>new poll shows 62 percent support president pl...</td>\n",
       "    </tr>\n",
       "    <tr>\n",
       "      <th>12808</th>\n",
       "      <td>1</td>\n",
       "      <td>one claims report vindicating new jersey gov c...</td>\n",
       "    </tr>\n",
       "  </tbody>\n",
       "</table>\n",
       "<p>12809 rows × 2 columns</p>\n",
       "</div>"
      ],
      "text/plain": [
       "       label                                  prepped statement\n",
       "id                                                             \n",
       "0          0  building wall u mexico border take literally y...\n",
       "1          1          wisconsin pace double number layoffs year\n",
       "2          1                 john mccain done nothing help vets\n",
       "3          0  suzanne bonamici supports plan cut choice medi...\n",
       "4          1  asked reporter whether hes center criminal sch...\n",
       "...      ...                                                ...\n",
       "12804      0  first time decade imports accounted less half ...\n",
       "12805      0  donald trump bankrupted companies twice four t...\n",
       "12806      0  john mccain george bush absolutely plan univer...\n",
       "12807      1  new poll shows 62 percent support president pl...\n",
       "12808      1  one claims report vindicating new jersey gov c...\n",
       "\n",
       "[12809 rows x 2 columns]"
      ]
     },
     "execution_count": 4,
     "metadata": {},
     "output_type": "execute_result"
    }
   ],
   "source": [
    "dataset = pd.read_csv('../liar_dataset/liar prepped.csv', index_col='id')\n",
    "dataset"
   ]
  },
  {
   "cell_type": "code",
   "execution_count": 10,
   "id": "dd2950da-bf3d-4be3-81fc-b759c6fe10fd",
   "metadata": {},
   "outputs": [
    {
     "data": {
      "text/plain": [
       "'wisconsin pace double number layoffs year'"
      ]
     },
     "execution_count": 10,
     "metadata": {},
     "output_type": "execute_result"
    }
   ],
   "source": [
    "string = dataset.iloc[1, 1]\n",
    "string"
   ]
  },
  {
   "cell_type": "code",
   "execution_count": 14,
   "id": "73d4423e-cf78-44ea-af12-36a33db2ec1d",
   "metadata": {},
   "outputs": [
    {
     "name": "stderr",
     "output_type": "stream",
     "text": [
      "[nltk_data] Downloading package wordnet to C:\\Users\\Ștefan\n",
      "[nltk_data]     Vlădescu\\AppData\\Roaming\\nltk_data...\n"
     ]
    },
    {
     "data": {
      "text/plain": [
       "True"
      ]
     },
     "execution_count": 14,
     "metadata": {},
     "output_type": "execute_result"
    }
   ],
   "source": [
    "import nltk\n",
    "nltk.download('wordnet')"
   ]
  },
  {
   "cell_type": "markdown",
   "id": "5c153b52-0880-4813-9ef0-0cac7d462ed9",
   "metadata": {},
   "source": [
    "Doing lemmatization on the text"
   ]
  },
  {
   "cell_type": "code",
   "execution_count": 21,
   "id": "f0092a1b-9332-4750-8fe6-dbb5278571cc",
   "metadata": {},
   "outputs": [],
   "source": [
    "from nltk.stem import WordNetLemmatizer\n",
    "lemmatizer = WordNetLemmatizer()\n",
    "#lemstr=[lemmatizer.lemmatize(word) for word in string.split()]\n",
    "#lemstr"
   ]
  },
  {
   "cell_type": "code",
   "execution_count": null,
   "id": "e8aef28a-b151-45f7-b53e-9276b8e4538e",
   "metadata": {},
   "outputs": [],
   "source": [
    "statements = list(dataset['prepped statement'].values)\n",
    "for i in range(len(statements)):\n",
    "    statements[i] = ' '.join([lemmatizer.lemmatize(word, pos='n') for word in statements[i].split()])\n",
    "for i in range(len(statements)):\n",
    "    statements[i] = ' '.join([lemmatizer.lemmatize(word, pos='a') for word in statements[i].split()])\n",
    "for i in range(len(statements)):\n",
    "    statements[i] = ' '.join([lemmatizer.lemmatize(word, pos='r') for word in statements[i].split()])\n",
    "for i in range(len(statements)):\n",
    "    statements[i] = ' '.join([lemmatizer.lemmatize(word, pos='v') for word in statements[i].split()])\n",
    "statements"
   ]
  },
  {
   "cell_type": "code",
   "execution_count": 33,
   "id": "d0596bda-ae70-4f46-a270-e4f7d1068109",
   "metadata": {},
   "outputs": [
    {
     "data": {
      "text/html": [
       "<div>\n",
       "<style scoped>\n",
       "    .dataframe tbody tr th:only-of-type {\n",
       "        vertical-align: middle;\n",
       "    }\n",
       "\n",
       "    .dataframe tbody tr th {\n",
       "        vertical-align: top;\n",
       "    }\n",
       "\n",
       "    .dataframe thead th {\n",
       "        text-align: right;\n",
       "    }\n",
       "</style>\n",
       "<table border=\"1\" class=\"dataframe\">\n",
       "  <thead>\n",
       "    <tr style=\"text-align: right;\">\n",
       "      <th></th>\n",
       "      <th>label</th>\n",
       "      <th>prepped statement</th>\n",
       "    </tr>\n",
       "    <tr>\n",
       "      <th>id</th>\n",
       "      <th></th>\n",
       "      <th></th>\n",
       "    </tr>\n",
       "  </thead>\n",
       "  <tbody>\n",
       "    <tr>\n",
       "      <th>0</th>\n",
       "      <td>0</td>\n",
       "      <td>build wall u mexico border take literally year</td>\n",
       "    </tr>\n",
       "    <tr>\n",
       "      <th>1</th>\n",
       "      <td>1</td>\n",
       "      <td>wisconsin pace double number layoff year</td>\n",
       "    </tr>\n",
       "    <tr>\n",
       "      <th>2</th>\n",
       "      <td>1</td>\n",
       "      <td>john mccain do nothing help vet</td>\n",
       "    </tr>\n",
       "    <tr>\n",
       "      <th>3</th>\n",
       "      <td>0</td>\n",
       "      <td>suzanne bonamici support plan cut choice medic...</td>\n",
       "    </tr>\n",
       "    <tr>\n",
       "      <th>4</th>\n",
       "      <td>1</td>\n",
       "      <td>ask reporter whether he center criminal scheme...</td>\n",
       "    </tr>\n",
       "    <tr>\n",
       "      <th>...</th>\n",
       "      <td>...</td>\n",
       "      <td>...</td>\n",
       "    </tr>\n",
       "    <tr>\n",
       "      <th>12804</th>\n",
       "      <td>0</td>\n",
       "      <td>first time decade import account less half oil...</td>\n",
       "    </tr>\n",
       "    <tr>\n",
       "      <th>12805</th>\n",
       "      <td>0</td>\n",
       "      <td>donald trump bankrupt company twice four time</td>\n",
       "    </tr>\n",
       "    <tr>\n",
       "      <th>12806</th>\n",
       "      <td>0</td>\n",
       "      <td>john mccain george bush absolutely plan univer...</td>\n",
       "    </tr>\n",
       "    <tr>\n",
       "      <th>12807</th>\n",
       "      <td>1</td>\n",
       "      <td>new poll show 62 percent support president pla...</td>\n",
       "    </tr>\n",
       "    <tr>\n",
       "      <th>12808</th>\n",
       "      <td>1</td>\n",
       "      <td>one claim report vindicate new jersey gov chri...</td>\n",
       "    </tr>\n",
       "  </tbody>\n",
       "</table>\n",
       "<p>12809 rows × 2 columns</p>\n",
       "</div>"
      ],
      "text/plain": [
       "       label                                  prepped statement\n",
       "id                                                             \n",
       "0          0     build wall u mexico border take literally year\n",
       "1          1           wisconsin pace double number layoff year\n",
       "2          1                    john mccain do nothing help vet\n",
       "3          0  suzanne bonamici support plan cut choice medic...\n",
       "4          1  ask reporter whether he center criminal scheme...\n",
       "...      ...                                                ...\n",
       "12804      0  first time decade import account less half oil...\n",
       "12805      0      donald trump bankrupt company twice four time\n",
       "12806      0  john mccain george bush absolutely plan univer...\n",
       "12807      1  new poll show 62 percent support president pla...\n",
       "12808      1  one claim report vindicate new jersey gov chri...\n",
       "\n",
       "[12809 rows x 2 columns]"
      ]
     },
     "execution_count": 33,
     "metadata": {},
     "output_type": "execute_result"
    }
   ],
   "source": [
    "dataset['prepped statement'] = statements\n",
    "dataset"
   ]
  },
  {
   "cell_type": "code",
   "execution_count": 34,
   "id": "6b375822-57d7-4c5b-a3c2-e2b7c85f71e8",
   "metadata": {},
   "outputs": [],
   "source": [
    "dataset.to_csv('../liar_dataset/liar prepped.csv', index_label='id')"
   ]
  },
  {
   "cell_type": "code",
   "execution_count": null,
   "id": "b4ff40a1-e166-4ae7-b416-39866074b8d6",
   "metadata": {},
   "outputs": [],
   "source": []
  }
 ],
 "metadata": {
  "kernelspec": {
   "display_name": "Python 3 (ipykernel)",
   "language": "python",
   "name": "python3"
  },
  "language_info": {
   "codemirror_mode": {
    "name": "ipython",
    "version": 3
   },
   "file_extension": ".py",
   "mimetype": "text/x-python",
   "name": "python",
   "nbconvert_exporter": "python",
   "pygments_lexer": "ipython3",
   "version": "3.12.8"
  }
 },
 "nbformat": 4,
 "nbformat_minor": 5
}
