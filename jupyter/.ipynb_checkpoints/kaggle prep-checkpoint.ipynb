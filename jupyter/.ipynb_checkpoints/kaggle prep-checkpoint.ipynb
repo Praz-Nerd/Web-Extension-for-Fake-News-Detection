{
 "cells": [
  {
   "cell_type": "code",
   "execution_count": 44,
   "id": "c653bede-c952-4f67-b9e7-d74ccbfc0aa1",
   "metadata": {},
   "outputs": [],
   "source": [
    "DATASET_PATH = '../kaggle_dataset/news_prepped.csv'\n",
    "import numpy as np\n",
    "import pandas as pd\n",
    "import nltk\n",
    "from string import punctuation #for recognizing and removing\n",
    "from nltk.corpus import stopwords #for recognizing and removing\n",
    "from nltk.stem import WordNetLemmatizer"
   ]
  },
  {
   "cell_type": "code",
   "execution_count": 24,
   "id": "434dff06-6b15-4840-a69e-473323edf0b3",
   "metadata": {},
   "outputs": [
    {
     "name": "stderr",
     "output_type": "stream",
     "text": [
      "[nltk_data] Downloading package punkt_tab to\n",
      "[nltk_data]     C:\\Users\\stefa\\AppData\\Roaming\\nltk_data...\n",
      "[nltk_data]   Package punkt_tab is already up-to-date!\n",
      "[nltk_data] Downloading package stopwords to\n",
      "[nltk_data]     C:\\Users\\stefa\\AppData\\Roaming\\nltk_data...\n",
      "[nltk_data]   Package stopwords is already up-to-date!\n",
      "[nltk_data] Downloading package wordnet to\n",
      "[nltk_data]     C:\\Users\\stefa\\AppData\\Roaming\\nltk_data...\n",
      "[nltk_data]   Package wordnet is already up-to-date!\n"
     ]
    },
    {
     "data": {
      "text/plain": [
       "True"
      ]
     },
     "execution_count": 24,
     "metadata": {},
     "output_type": "execute_result"
    }
   ],
   "source": [
    "nltk.download('punkt_tab')\n",
    "nltk.download('stopwords')\n",
    "nltk.download('wordnet')"
   ]
  },
  {
   "cell_type": "code",
   "execution_count": 9,
   "id": "e531994c-58ba-4ade-a316-e60af9aaffdc",
   "metadata": {},
   "outputs": [
    {
     "data": {
      "text/html": [
       "<div>\n",
       "<style scoped>\n",
       "    .dataframe tbody tr th:only-of-type {\n",
       "        vertical-align: middle;\n",
       "    }\n",
       "\n",
       "    .dataframe tbody tr th {\n",
       "        vertical-align: top;\n",
       "    }\n",
       "\n",
       "    .dataframe thead th {\n",
       "        text-align: right;\n",
       "    }\n",
       "</style>\n",
       "<table border=\"1\" class=\"dataframe\">\n",
       "  <thead>\n",
       "    <tr style=\"text-align: right;\">\n",
       "      <th></th>\n",
       "      <th>title</th>\n",
       "      <th>text</th>\n",
       "      <th>lbl</th>\n",
       "    </tr>\n",
       "  </thead>\n",
       "  <tbody>\n",
       "    <tr>\n",
       "      <th>0</th>\n",
       "      <td>You Can Smell Hillary’s Fear</td>\n",
       "      <td>Daniel Greenfield, a Shillman Journalism Fello...</td>\n",
       "      <td>1</td>\n",
       "    </tr>\n",
       "    <tr>\n",
       "      <th>1</th>\n",
       "      <td>Watch The Exact Moment Paul Ryan Committed Pol...</td>\n",
       "      <td>Google Pinterest Digg Linkedin Reddit Stumbleu...</td>\n",
       "      <td>1</td>\n",
       "    </tr>\n",
       "    <tr>\n",
       "      <th>2</th>\n",
       "      <td>Kerry to go to Paris in gesture of sympathy</td>\n",
       "      <td>U.S. Secretary of State John F. Kerry said Mon...</td>\n",
       "      <td>0</td>\n",
       "    </tr>\n",
       "    <tr>\n",
       "      <th>3</th>\n",
       "      <td>Bernie supporters on Twitter erupt in anger ag...</td>\n",
       "      <td>— Kaydee King (@KaydeeKing) November 9, 2016 T...</td>\n",
       "      <td>1</td>\n",
       "    </tr>\n",
       "    <tr>\n",
       "      <th>4</th>\n",
       "      <td>The Battle of New York: Why This Primary Matters</td>\n",
       "      <td>It's primary day in New York and front-runners...</td>\n",
       "      <td>0</td>\n",
       "    </tr>\n",
       "  </tbody>\n",
       "</table>\n",
       "</div>"
      ],
      "text/plain": [
       "                                               title  \\\n",
       "0                       You Can Smell Hillary’s Fear   \n",
       "1  Watch The Exact Moment Paul Ryan Committed Pol...   \n",
       "2        Kerry to go to Paris in gesture of sympathy   \n",
       "3  Bernie supporters on Twitter erupt in anger ag...   \n",
       "4   The Battle of New York: Why This Primary Matters   \n",
       "\n",
       "                                                text  lbl  \n",
       "0  Daniel Greenfield, a Shillman Journalism Fello...    1  \n",
       "1  Google Pinterest Digg Linkedin Reddit Stumbleu...    1  \n",
       "2  U.S. Secretary of State John F. Kerry said Mon...    0  \n",
       "3  — Kaydee King (@KaydeeKing) November 9, 2016 T...    1  \n",
       "4  It's primary day in New York and front-runners...    0  "
      ]
     },
     "execution_count": 9,
     "metadata": {},
     "output_type": "execute_result"
    }
   ],
   "source": [
    "df = pd.read_csv(DATASET_PATH)\n",
    "df = df.drop('id', axis = 1)\n",
    "df = df.rename(columns= {'label':'lbl'})\n",
    "df.head()"
   ]
  },
  {
   "cell_type": "code",
   "execution_count": 10,
   "id": "a7dc6352-f65f-4a8a-b80c-c9fcc93a5c26",
   "metadata": {},
   "outputs": [
    {
     "data": {
      "text/plain": [
       "(6335, 3)"
      ]
     },
     "execution_count": 10,
     "metadata": {},
     "output_type": "execute_result"
    }
   ],
   "source": [
    "df.shape"
   ]
  },
  {
   "cell_type": "code",
   "execution_count": 13,
   "id": "326ac2b7-2cff-4de5-a3e6-0810405e0d21",
   "metadata": {},
   "outputs": [
    {
     "data": {
      "text/html": [
       "<div>\n",
       "<style scoped>\n",
       "    .dataframe tbody tr th:only-of-type {\n",
       "        vertical-align: middle;\n",
       "    }\n",
       "\n",
       "    .dataframe tbody tr th {\n",
       "        vertical-align: top;\n",
       "    }\n",
       "\n",
       "    .dataframe thead th {\n",
       "        text-align: right;\n",
       "    }\n",
       "</style>\n",
       "<table border=\"1\" class=\"dataframe\">\n",
       "  <thead>\n",
       "    <tr style=\"text-align: right;\">\n",
       "      <th></th>\n",
       "      <th>title</th>\n",
       "      <th>text</th>\n",
       "      <th>lbl</th>\n",
       "    </tr>\n",
       "  </thead>\n",
       "  <tbody>\n",
       "    <tr>\n",
       "      <th>0</th>\n",
       "      <td>you can smell hillary’s fear</td>\n",
       "      <td>daniel greenfield, a shillman journalism fello...</td>\n",
       "      <td>1</td>\n",
       "    </tr>\n",
       "    <tr>\n",
       "      <th>1</th>\n",
       "      <td>watch the exact moment paul ryan committed pol...</td>\n",
       "      <td>google pinterest digg linkedin reddit stumbleu...</td>\n",
       "      <td>1</td>\n",
       "    </tr>\n",
       "    <tr>\n",
       "      <th>2</th>\n",
       "      <td>kerry to go to paris in gesture of sympathy</td>\n",
       "      <td>u.s. secretary of state john f. kerry said mon...</td>\n",
       "      <td>0</td>\n",
       "    </tr>\n",
       "    <tr>\n",
       "      <th>3</th>\n",
       "      <td>bernie supporters on twitter erupt in anger ag...</td>\n",
       "      <td>— kaydee king (@kaydeeking) november 9, 2016 t...</td>\n",
       "      <td>1</td>\n",
       "    </tr>\n",
       "    <tr>\n",
       "      <th>4</th>\n",
       "      <td>the battle of new york: why this primary matters</td>\n",
       "      <td>it's primary day in new york and front-runners...</td>\n",
       "      <td>0</td>\n",
       "    </tr>\n",
       "    <tr>\n",
       "      <th>...</th>\n",
       "      <td>...</td>\n",
       "      <td>...</td>\n",
       "      <td>...</td>\n",
       "    </tr>\n",
       "    <tr>\n",
       "      <th>6330</th>\n",
       "      <td>state department says it can't find emails fro...</td>\n",
       "      <td>the state department told the republican natio...</td>\n",
       "      <td>0</td>\n",
       "    </tr>\n",
       "    <tr>\n",
       "      <th>6331</th>\n",
       "      <td>the ‘p’ in pbs should stand for ‘plutocratic’ ...</td>\n",
       "      <td>the ‘p’ in pbs should stand for ‘plutocratic’ ...</td>\n",
       "      <td>1</td>\n",
       "    </tr>\n",
       "    <tr>\n",
       "      <th>6332</th>\n",
       "      <td>anti-trump protesters are tools of the oligarc...</td>\n",
       "      <td>anti-trump protesters are tools of the oligar...</td>\n",
       "      <td>1</td>\n",
       "    </tr>\n",
       "    <tr>\n",
       "      <th>6333</th>\n",
       "      <td>in ethiopia, obama seeks progress on peace, se...</td>\n",
       "      <td>addis ababa, ethiopia —president obama convene...</td>\n",
       "      <td>0</td>\n",
       "    </tr>\n",
       "    <tr>\n",
       "      <th>6334</th>\n",
       "      <td>jeb bush is suddenly attacking trump. here's w...</td>\n",
       "      <td>jeb bush is suddenly attacking trump. here's w...</td>\n",
       "      <td>0</td>\n",
       "    </tr>\n",
       "  </tbody>\n",
       "</table>\n",
       "<p>6335 rows × 3 columns</p>\n",
       "</div>"
      ],
      "text/plain": [
       "                                                  title  \\\n",
       "0                          you can smell hillary’s fear   \n",
       "1     watch the exact moment paul ryan committed pol...   \n",
       "2           kerry to go to paris in gesture of sympathy   \n",
       "3     bernie supporters on twitter erupt in anger ag...   \n",
       "4      the battle of new york: why this primary matters   \n",
       "...                                                 ...   \n",
       "6330  state department says it can't find emails fro...   \n",
       "6331  the ‘p’ in pbs should stand for ‘plutocratic’ ...   \n",
       "6332  anti-trump protesters are tools of the oligarc...   \n",
       "6333  in ethiopia, obama seeks progress on peace, se...   \n",
       "6334  jeb bush is suddenly attacking trump. here's w...   \n",
       "\n",
       "                                                   text  lbl  \n",
       "0     daniel greenfield, a shillman journalism fello...    1  \n",
       "1     google pinterest digg linkedin reddit stumbleu...    1  \n",
       "2     u.s. secretary of state john f. kerry said mon...    0  \n",
       "3     — kaydee king (@kaydeeking) november 9, 2016 t...    1  \n",
       "4     it's primary day in new york and front-runners...    0  \n",
       "...                                                 ...  ...  \n",
       "6330  the state department told the republican natio...    0  \n",
       "6331  the ‘p’ in pbs should stand for ‘plutocratic’ ...    1  \n",
       "6332   anti-trump protesters are tools of the oligar...    1  \n",
       "6333  addis ababa, ethiopia —president obama convene...    0  \n",
       "6334  jeb bush is suddenly attacking trump. here's w...    0  \n",
       "\n",
       "[6335 rows x 3 columns]"
      ]
     },
     "execution_count": 13,
     "metadata": {},
     "output_type": "execute_result"
    }
   ],
   "source": [
    "columns = ['title', 'text']\n",
    "for col in columns:\n",
    "    df[col] = df[col].str.lower()\n",
    "df"
   ]
  },
  {
   "cell_type": "code",
   "execution_count": 46,
   "id": "d7e26334-31b2-49bf-9b94-5d712300d037",
   "metadata": {},
   "outputs": [
    {
     "data": {
      "text/plain": [
       "'!\"#$%&\\'()*+,-./:;<=>?@[\\\\]^_`{|}~’‘“”–'"
      ]
     },
     "execution_count": 46,
     "metadata": {},
     "output_type": "execute_result"
    }
   ],
   "source": [
    "punctuation+='’‘“”–'\n",
    "punctuation"
   ]
  },
  {
   "cell_type": "markdown",
   "id": "9d01e80d-9613-4667-8b55-0dedad9b1857",
   "metadata": {},
   "source": [
    "Define specialized functions for removing stop words and punctuation from a given statement list"
   ]
  },
  {
   "cell_type": "code",
   "execution_count": 47,
   "id": "a6eee749-ca7e-4c89-9c7b-4cdcc176d5b8",
   "metadata": {},
   "outputs": [],
   "source": [
    "def removePunctuation(statements):\n",
    "    for i in range(len(statements)):\n",
    "        for p in punctuation:\n",
    "            statements[i] = statements[i].replace(p, ' ')\n",
    "            statements[i] = ' '.join(statements[i].split())\n",
    "    return statements\n",
    "\n",
    "def removeStopWords(statements):\n",
    "    stopword_set = set(stopwords.words('english'))\n",
    "    for i in range(len(statements)):\n",
    "        statements[i] = ' '.join([word for word in statements[i].split() if word not in stopword_set])\n",
    "    return statements\n",
    "\n",
    "def lemmatize(statements):\n",
    "    lemmatizer = WordNetLemmatizer()\n",
    "    for i in range(len(statements)):\n",
    "        statements[i] = ' '.join([lemmatizer.lemmatize(word, pos='n') for word in statements[i].split()])\n",
    "    for i in range(len(statements)):\n",
    "        statements[i] = ' '.join([lemmatizer.lemmatize(word, pos='a') for word in statements[i].split()])\n",
    "    for i in range(len(statements)):\n",
    "        statements[i] = ' '.join([lemmatizer.lemmatize(word, pos='r') for word in statements[i].split()])\n",
    "    for i in range(len(statements)):\n",
    "        statements[i] = ' '.join([lemmatizer.lemmatize(word, pos='v') for word in statements[i].split()])\n",
    "    return statements"
   ]
  },
  {
   "cell_type": "markdown",
   "id": "e7fe9522-57a2-4bd4-be90-9153eec1ed76",
   "metadata": {},
   "source": [
    "Prepare the titles and the text"
   ]
  },
  {
   "cell_type": "code",
   "execution_count": null,
   "id": "4f7a14ae-ad61-4ada-ae29-7ad2d307a761",
   "metadata": {},
   "outputs": [],
   "source": [
    "preppedText = removePunctuation(list(df['title']))\n",
    "preppedText = removeStopWords(preppedText)\n",
    "preppedTitles = lemmatize(preppedText)"
   ]
  },
  {
   "cell_type": "code",
   "execution_count": 50,
   "id": "8f14c89e-b720-44bb-846b-d2433da95367",
   "metadata": {},
   "outputs": [
    {
     "data": {
      "text/plain": [
       "'daniel greenfield shillman journalism fellow freedom center new york writer focus radical islam final stretch election hillary rodham clinton go war fbi word unprecedented throw around often election ought retire still unprecedented nominee major political party go war fbi exactly hillary people do coma patient wake watch hour cnn hospital bed would assume fbi director jam comey hillary opponent election fbi attack everyone obama cnn hillary people circulate letter attack comey currently medium hit piece lambast target trump surprise clinton ally start run attack ad fbi fbi leadership warn entire leave wing establishment form lynch mob continue go hillary fbi credibility attack medium democrat preemptively head result investigation clinton foundation hillary clinton covert struggle fbi agent obama doj people go explosively public new york time compare comey j edgar hoover bizarre headline jam comey role recall hoover fbi fairly practically admit front spout nonsense boston globe publish column call comey resignation outdo time editorial claim scandal really attack woman jam carville appear msnbc remind everyone still alive insane accuse comey coordinate house republican kgb think vast right wing conspiracy stretch countless medium story charge comey violate procedure know procedural violation email classify information store bathroom server senator harry reid send comey letter accuse violate hatch act hatch act nice idea much relevance age obama tenth amendment cable news spectrum quickly fill medium hack glance wikipedia article hatch act table accuse fbi director one awkward conspiracy hillary ever jam comey really hurt hillary pick one hell strange way long ago democrat breathe sigh relief give hillary clinton pas prominent public statement really elect trump keep email scandal go trash investigation payroll house republican kgb back play coy sudden development vladimir putin paul ryan talk take look anthony weiner computer either comey cunning fbi director ever live awkwardly try navigate political mess trap doj leadership whose political future tie hillary victory bureau whose apolitical agent want allow job truly mysterious thing hillary associate decide go war respect federal agency american like fbi hillary clinton enjoy 60 unfavorable rat interest question hillary old strategy lie deny fbi even criminal investigation underway instead associate insist security review fbi correct shrug old breezy denial approach give way savage assault fbi pretend nothing wrong bad strategy good one pick fight fbi lunatic clinton associate try claim fbi really kgb two possible explanation hillary clinton might arrogant enough lash fbi belief victory near kind hubris lead plan victory firework display could lead declare war fbi irritate final mile campaign explanation people panic go war fbi behavior smart focus presidential campaign act desperation presidential candidate decide option try destroy credibility fbi hubris fear fbi might reveal original fbi investigation hillary clinton confident could ride good reason believe hillary clinton go place paranoid wreck within short space time positive clinton campaign promise unite country replace desperate flail operation focus energy fight fbi one reason bizarre behavior clinton campaign decide fbi investigation late batch email pose threat survival go fight fbi unprecedented step bear fear hard know whether fear justify existence fear already tell u whole lot clinton loyalist rig old investigation know outcome ahead time well know debate question suddenly long control afraid smell fear fbi wiretap investigation clinton foundation find new email time clintonworld panic spinmeister clintonworld claim email scandal much smoke without fire appearance impropriety without substance react smoke respond fire misguide assault fbi tell u hillary clinton ally afraid revelation big fundamental illegality email setup email setup preemptive cover clinton campaign panic badly belief right wrong whatever crime illegal setup mean cover risk expose clinton weather countless scandal year whatever protect time around big usual corruption bribery sexual assault abuse power follow around throughout year big damage allegation already come want fbi investigator anywhere near campaign comey pure intimidation also warn senior fbi people value career warn stay away democrat close rank around nominee fbi ugly unprecedented scene may also last stand hillary clinton awkwardly wind way numerous scandal election cycle never show fear desperation change whatever afraid lie bury email huma abedin bring like nothing else'"
      ]
     },
     "execution_count": 50,
     "metadata": {},
     "output_type": "execute_result"
    }
   ],
   "source": [
    "preppedText = removePunctuation(list(df['text']))\n",
    "preppedText = removeStopWords(preppedText)\n",
    "preppedTexts = lemmatize(preppedText)\n",
    "preppedTexts[0]"
   ]
  },
  {
   "cell_type": "markdown",
   "id": "3e401f70-b608-4afa-b678-0d7e51c6b662",
   "metadata": {},
   "source": [
    "Visualize using a word cloud"
   ]
  },
  {
   "cell_type": "code",
   "execution_count": 51,
   "id": "19b87849-56a5-447d-a4c7-934fe77a8302",
   "metadata": {
    "editable": true,
    "slideshow": {
     "slide_type": ""
    },
    "tags": []
   },
   "outputs": [
    {
     "ename": "ModuleNotFoundError",
     "evalue": "No module named 'wordcloud'",
     "output_type": "error",
     "traceback": [
      "\u001b[31m---------------------------------------------------------------------------\u001b[39m",
      "\u001b[31mModuleNotFoundError\u001b[39m                       Traceback (most recent call last)",
      "\u001b[36mCell\u001b[39m\u001b[36m \u001b[39m\u001b[32mIn[51]\u001b[39m\u001b[32m, line 2\u001b[39m\n\u001b[32m      1\u001b[39m \u001b[38;5;28;01mimport\u001b[39;00m\u001b[38;5;250m \u001b[39m\u001b[34;01mmatplotlib\u001b[39;00m\u001b[34;01m.\u001b[39;00m\u001b[34;01mpyplot\u001b[39;00m\u001b[38;5;250m \u001b[39m\u001b[38;5;28;01mas\u001b[39;00m\u001b[38;5;250m \u001b[39m\u001b[34;01mplt\u001b[39;00m\n\u001b[32m----> \u001b[39m\u001b[32m2\u001b[39m \u001b[38;5;28;01mfrom\u001b[39;00m\u001b[38;5;250m \u001b[39m\u001b[34;01mwordcloud\u001b[39;00m\u001b[38;5;250m \u001b[39m\u001b[38;5;28;01mimport\u001b[39;00m WordCloud\n\u001b[32m      4\u001b[39m \u001b[38;5;66;03m# Sample text data\u001b[39;00m\n\u001b[32m      5\u001b[39m text = \u001b[33m\"\u001b[39m\u001b[33mPython is fun and powerful. Python is great for data science, machine learning, and AI.\u001b[39m\u001b[33m\"\u001b[39m\n",
      "\u001b[31mModuleNotFoundError\u001b[39m: No module named 'wordcloud'"
     ]
    }
   ],
   "source": [
    "import matplotlib.pyplot as plt\n",
    "from wordcloud import WordCloud\n",
    "\n",
    "# Sample text data\n",
    "text = \"Python is fun and powerful. Python is great for data science, machine learning, and AI.\"\n",
    "\n",
    "# Create a WordCloud object\n",
    "wordcloud = WordCloud(width=800, height=400, background_color='white').generate(text)\n",
    "\n",
    "# Display the WordCloud\n",
    "plt.figure(figsize=(10, 5))\n",
    "plt.imshow(wordcloud, interpolation='bilinear')\n",
    "plt.axis(\"off\")  # Hide axes\n",
    "plt.show()"
   ]
  },
  {
   "cell_type": "code",
   "execution_count": null,
   "id": "635e646e-1276-40a0-90db-00c27d6732df",
   "metadata": {},
   "outputs": [],
   "source": []
  }
 ],
 "metadata": {
  "kernelspec": {
   "display_name": "Python 3 (ipykernel)",
   "language": "python",
   "name": "python3"
  },
  "language_info": {
   "codemirror_mode": {
    "name": "ipython",
    "version": 3
   },
   "file_extension": ".py",
   "mimetype": "text/x-python",
   "name": "python",
   "nbconvert_exporter": "python",
   "pygments_lexer": "ipython3",
   "version": "3.12.8"
  }
 },
 "nbformat": 4,
 "nbformat_minor": 5
}
